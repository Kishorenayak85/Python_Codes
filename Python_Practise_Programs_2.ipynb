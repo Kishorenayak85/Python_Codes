{
 "cells": [
  {
   "cell_type": "markdown",
   "metadata": {},
   "source": [
    "want you to write me a simple spell checking engine.\n",
    "\n",
    "The query language is a very simple regular expression-like language, with one special character: . (the dot character), which means EXACTLY ONE character (it can be any character). So, for example, 'c.t' would match 'cat' as the dot matches any character. There may be any number of dot characters in the query (or none).\n",
    "\n",
    "Your spell checker will have to be optimized for speed, so you will have to write it in the required way. There would be a one-time setUp() function that does any pre-processing you require, and then there will be an isMatch() function that should run as fast as possible, utilizing that pre-processing.\n",
    "\n",
    "There are some examples below, feel free to ask for clarification.\n",
    "\n",
    "Word List:\n",
    "\n",
    "[cat, bat, rat, drat, dart, drab]"
   ]
  },
  {
   "cell_type": "code",
   "execution_count": null,
   "metadata": {},
   "outputs": [],
   "source": []
  },
  {
   "cell_type": "code",
   "execution_count": 13,
   "metadata": {},
   "outputs": [
    {
     "name": "stdout",
     "output_type": "stream",
     "text": [
      "Enter how many words you want to give as input: 2\n",
      "cat\n",
      "dog\n",
      "['cat', 'dog']\n",
      "enter te word to match: du\n",
      "False\n"
     ]
    }
   ],
   "source": [
    "## Begin Of Taking Input Of words##\n",
    "def input_words():\n",
    "    words_list = input()\n",
    "    return words_list\n",
    "    \n",
    "inp_wdcnt = int(input('Enter how many words you want to give as input: '))\n",
    "dict_words = []\n",
    "\n",
    "for k in range(inp_wdcnt):\n",
    "    dict_words.append(input_words())\n",
    "    \n",
    "print(dict_words)\n",
    "\n",
    "## End Of Taking Input Of words##\n",
    "\n",
    "def ismatch():\n",
    "    word_tomatch = input('enter te word to match: ') ## input to be defined\n",
    "    \n",
    "    for word in dict_words:\n",
    "        if len(word) == len(word_tomatch):\n",
    "            cnt = 0\n",
    "            for k in range(len(word_tomatch)):\n",
    "                if word_tomatch[k] == word[k] or word_tomatch[k] == '.':\n",
    "                    cnt +=1\n",
    "            print(cnt)\n",
    "            if cnt == len(word_tomatch):\n",
    "                return True\n",
    "            else:\n",
    "                return False\n",
    "        else:\n",
    "            return False\n",
    "        \n",
    "math = ismatch()\n",
    "print(math)"
   ]
  },
  {
   "cell_type": "markdown",
   "metadata": {},
   "source": [
    "===========================================================================================\n",
    "\n",
    "Given an array of integers, we would like to determine  whether the array is monotonic (non-decreasing/non-increasing) or not. Examples: // 1 2 5 5 8 // true // 9 4 4 2 2 // true // 1 4 6 3 // false //1 1 1 1 1 1 // true\n"
   ]
  },
  {
   "cell_type": "code",
   "execution_count": 25,
   "metadata": {},
   "outputs": [
    {
     "data": {
      "text/plain": [
       "False"
      ]
     },
     "execution_count": 25,
     "metadata": {},
     "output_type": "execute_result"
    }
   ],
   "source": [
    "def isMonotonic(A):\n",
    "    ##Check Edge cases\n",
    "    if type(A) is list and len(A) != 0: # check if list or Not and Length is > 0\n",
    "        j = 0\n",
    "        k = 0\n",
    "        for i in range(len(A)-1):\n",
    "            if type(A[i]) is int and type(A[i+1]) is int:\n",
    "                if A[i] <= A[i+1]:\n",
    "                    j += 1\n",
    "                elif A[i] >= A[i+1]:\n",
    "                    k += 1\n",
    "            else:\n",
    "                return False\n",
    "        if j == (len(A)-1) or k == (len(A)-1):\n",
    "            return True\n",
    "        else:\n",
    "            return False\n",
    "    else:\n",
    "        return False\n",
    "\n",
    "\n",
    "##Testcases\n",
    "A = [1,2,3,4,5]\n",
    "A = [1,1,2,3,4,5]\n",
    "A = [1,1,2,3,4,5,4]\n",
    "A = [5,4,3,2,1]\n",
    "#A = [1,2,3,a]\n",
    "A = [1,2,3,'a']\n",
    "A = [None,1,2,4,5]\n",
    "A = []\n",
    "A = None\n",
    "A = 'Apple'\n",
    "\n",
    "##Execution\n",
    "isMonotonic(A)"
   ]
  },
  {
   "cell_type": "markdown",
   "metadata": {},
   "source": [
    "================================================================================\n",
    "\n",
    "Calculate the average word length. For the given set of  words return the average word length"
   ]
  },
  {
   "cell_type": "code",
   "execution_count": null,
   "metadata": {},
   "outputs": [],
   "source": [
    "s = input(\"Enter a sentence: \")\n",
    "\n",
    "word_cnt = s.split(\" \")\n",
    "print(word_cnt)"
   ]
  },
  {
   "cell_type": "markdown",
   "metadata": {},
   "source": [
    "============================================================================\n",
    "\n",
    "returns the number of times a given character occurs in the given string"
   ]
  },
  {
   "cell_type": "code",
   "execution_count": 36,
   "metadata": {},
   "outputs": [
    {
     "name": "stdout",
     "output_type": "stream",
     "text": [
      "s  occured : 3  times in the word  missisipi\n"
     ]
    }
   ],
   "source": [
    "s1='missisipi'\n",
    "search_char_occ = 's'\n",
    "\n",
    "##s1 = input('enter the word/ sentence :')\n",
    "##search_char_occ = input('enter the character or word to know it's occurance:'')\n",
    "cnt = 0\n",
    "\n",
    "for i in range(len(s1)):\n",
    "    if s1[i] == search_char_occ:\n",
    "        cnt +=1\n",
    "print(search_char_occ, ' occured :', cnt, ' times in the word ',s1)\n",
    "    "
   ]
  },
  {
   "cell_type": "markdown",
   "metadata": {},
   "source": [
    "==============================================================================================\n",
    "\n",
    "[1,None,1,2,None} --> [1,1,1,2,2]\n",
    "in the given list if the ith occurance is none replace it with (i-1)th occurance\n",
    "\n",
    "Edge Cases:\n",
    "1) if 1st is None - [None,None,None,1,2,None] - begin with 1\n",
    "2) if 2/3 None's come - [1,None,None,1,2,None]"
   ]
  },
  {
   "cell_type": "code",
   "execution_count": 41,
   "metadata": {},
   "outputs": [
    {
     "name": "stdout",
     "output_type": "stream",
     "text": [
      "[1, 1, 1, 1, 2, 2]\n"
     ]
    }
   ],
   "source": [
    "A = [None,None,None,1,2,None]\n",
    "for i in range(len(A)):\n",
    "    if A[i] == None and i == 0:\n",
    "        A[i] = 1\n",
    "    elif A[i] == None and i != 0:\n",
    "        A[i] = A[i-1]\n",
    "\n",
    "print (A)"
   ]
  },
  {
   "cell_type": "markdown",
   "metadata": {},
   "source": [
    "===================================\n",
    "\n",
    "Find uncommon words from 2 lists\n"
   ]
  },
  {
   "cell_type": "code",
   "execution_count": 97,
   "metadata": {},
   "outputs": [
    {
     "name": "stdout",
     "output_type": "stream",
     "text": [
      "['Geeks', 'for', 'A', 'geeks', 'from', 'Learning', 'Geeks', 'for']\n",
      "['A', 'Geeks', 'Geeks', 'Learning', 'for', 'for', 'from', 'geeks']\n",
      "['A', 'Learning', 'from', 'geeks']\n"
     ]
    }
   ],
   "source": [
    "A = \"Geeks for Geeks A A\"\n",
    "B = \"Learning from geeks for Geeks\"\n",
    "\n",
    "A_splt = list(set(A.split(' ')))\n",
    "B_splt = list(set(B.split(' ')))\n",
    "\n",
    "#print(A_splt)\n",
    "#print(B_splt)\n",
    "\n",
    "merg = A_splt + B_splt\n",
    "print(merg)\n",
    "\n",
    "##merg = [i.upper() for i in merg]\n",
    "\n",
    "merg_srt = sorted(merg)\n",
    "print(merg_srt)\n",
    "\n",
    "blnk = []\n",
    "\n",
    "for i in range(len(merg_srt)):\n",
    "    if i == 0 and merg_srt[i] != merg_srt[i+1]:\n",
    "        blnk.append(merg_srt[i])\n",
    "    elif i == (len(merg_srt)-1) and merg_srt[i] != merg_srt[i-1]:\n",
    "        blnk.append(merg_srt[i])\n",
    "    elif i != 0 and i != (len(merg_srt)-1) and merg_srt[i] != merg_srt[i-1] and merg_srt[i] != merg_srt[i+1]:\n",
    "        blnk.append(merg_srt[i])\n",
    "        \n",
    "print(blnk)"
   ]
  },
  {
   "cell_type": "markdown",
   "metadata": {},
   "source": [
    "===================================\n",
    "\n",
    "Find uncommon words from 2 lists"
   ]
  },
  {
   "cell_type": "code",
   "execution_count": 87,
   "metadata": {},
   "outputs": [
    {
     "name": "stdout",
     "output_type": "stream",
     "text": [
      "['Geeks', 'for', 'A', 'Learning', 'Geeks', 'for', 'from']\n",
      "['A', 'Geeks', 'Geeks', 'Learning', 'for', 'for', 'from']\n",
      "['Geeks', 'for']\n"
     ]
    }
   ],
   "source": [
    "A = \"Geeks for Geeks A A\"\n",
    "B = \"Learning from Geeks for Geeks\"\n",
    "\n",
    "A_splt = list(set(A.split(' ')))\n",
    "B_splt = list(set(B.split(' ')))\n",
    "\n",
    "#print(A_splt)\n",
    "#print(B_splt)\n",
    "\n",
    "merg = A_splt + B_splt\n",
    "print(merg)\n",
    "\n",
    "merg_srt = sorted(merg)\n",
    "print(merg_srt)\n",
    "\n",
    "blnk = []\n",
    "\n",
    "for i in range(len(merg_srt)):\n",
    "    if i == 0 and merg_srt[i] == merg_srt[i+1]:\n",
    "        blnk.append(merg_srt[i])\n",
    "    elif i == (len(merg_srt)-1) and merg_srt[i] == merg_srt[i-1]:\n",
    "        blnk.append(merg_srt[i])\n",
    "    elif i != 0 and i != (len(merg_srt)-1) and (merg_srt[i] == merg_srt[i-1] or merg_srt[i] == merg_srt[i+1]):\n",
    "        blnk.append(merg_srt[i])\n",
    "        \n",
    "m_blnk = list(set(blnk))\n",
    "print(m_blnk)"
   ]
  },
  {
   "cell_type": "markdown",
   "metadata": {},
   "source": [
    "================================================\n",
    "\n",
    "Cumulative Sum from list"
   ]
  },
  {
   "cell_type": "code",
   "execution_count": null,
   "metadata": {},
   "outputs": [],
   "source": [
    "    run_sum = []\n",
    "    def runningSum(self, nums):\n",
    "        \"\"\"\n",
    "        :type nums: List[int]\n",
    "        :rtype: List[int]\n",
    "        \"\"\"\n",
    "        for i in range(len(nums)):\n",
    "            if i > 0:\n",
    "                nums[i] = nums[i] + nums[i-1]\n",
    "        run_num = nums\n",
    "        return run_num"
   ]
  },
  {
   "cell_type": "markdown",
   "metadata": {},
   "source": [
    "Given the array nums consisting of 2n elements in the form [x1,x2,...,xn,y1,y2,...,yn].\n",
    "\n",
    "Return the array in the form [x1,y1,x2,y2,...,xn,yn].\n",
    "\n",
    "Input: nums = [2,5,1,3,4,7], n = 3\n",
    "Output: [2,3,5,4,1,7] \n",
    "Explanation: Since x1=2, x2=5, x3=1, y1=3, y2=4, y3=7 then the answer is [2,3,5,4,1,7]."
   ]
  },
  {
   "cell_type": "code",
   "execution_count": null,
   "metadata": {},
   "outputs": [],
   "source": [
    "    def shuffle(self, nums, n):\n",
    "        \"\"\"\n",
    "        :type nums: List[int]\n",
    "        :type n: int\n",
    "        :rtype: List[int]\n",
    "        \"\"\"\n",
    "        i = len(nums)/2\n",
    "        x1 = nums[:i]\n",
    "        x2 = nums[i:]\n",
    "        #print(x1)\n",
    "        #print(x2)\n",
    "        fl = []\n",
    "        for j in range(i):\n",
    "            fl.append(x1[j])\n",
    "            fl.append(x2[j])\n",
    "        return fl"
   ]
  },
  {
   "cell_type": "markdown",
   "metadata": {},
   "source": [
    "Given the array candies and the integer extraCandies, where candies[i] represents the number of candies that the ith kid has.\n",
    "\n",
    "For each kid check if there is a way to distribute extraCandies among the kids such that he or she can have the greatest number of candies among them. Notice that multiple kids can have the greatest number of candies.\n",
    "\n",
    "Input: candies = [2,3,5,1,3], extraCandies = 3\n",
    "Output: [true,true,true,false,true] \n",
    "Explanation: \n",
    "Kid 1 has 2 candies and if he or she receives all extra candies (3) will have 5 candies --- the greatest number of candies among the kids. \n",
    "Kid 2 has 3 candies and if he or she receives at least 2 extra candies will have the greatest number of candies among the kids. \n",
    "Kid 3 has 5 candies and this is already the greatest number of candies among the kids. \n",
    "Kid 4 has 1 candy and even if he or she receives all extra candies will only have 4 candies. \n",
    "Kid 5 has 3 candies and if he or she receives at least 2 extra candies will have the greatest number of candies among the kids. "
   ]
  },
  {
   "cell_type": "code",
   "execution_count": null,
   "metadata": {},
   "outputs": [],
   "source": [
    "    def kidsWithCandies(self, candies, extraCandies):\n",
    "        \"\"\"\n",
    "        :type candies: List[int]\n",
    "        :type extraCandies: int\n",
    "        :rtype: List[bool]\n",
    "        \"\"\"\n",
    "        m = max(candies)\n",
    "        k = []\n",
    "        for i in range(len(candies)):\n",
    "            if candies[i] + extraCandies >= m:\n",
    "                k.append(True)\n",
    "            else:\n",
    "                k.append(False)\n",
    "        return k"
   ]
  },
  {
   "cell_type": "markdown",
   "metadata": {},
   "source": [
    "Given an array of integers nums.\n",
    "\n",
    "A pair (i,j) is called good if nums[i] == nums[j] and i < j.\n",
    "\n",
    "Return the number of good pairs.\n",
    "\n",
    "Input: nums = [1,2,3,1,1,3]\n",
    "Output: 4\n",
    "Explanation: There are 4 good pairs (0,3), (0,4), (3,4), (2,5) 0-indexed."
   ]
  },
  {
   "cell_type": "code",
   "execution_count": null,
   "metadata": {},
   "outputs": [],
   "source": [
    "    def numIdenticalPairs(self, nums):\n",
    "        \"\"\"\n",
    "        :type nums: List[int]\n",
    "        :rtype: int\n",
    "        \"\"\"\n",
    "        cnt = 0\n",
    "        for i in range(len(nums)):\n",
    "            nums_m = nums[i+1:]\n",
    "            ##print(nums_m)\n",
    "            for j in range(len(nums_m)):\n",
    "                if nums[i] == nums_m[j]:\n",
    "                    cnt += 1\n",
    "        return cnt"
   ]
  },
  {
   "cell_type": "markdown",
   "metadata": {},
   "source": [
    "Given a non-negative integer num, return the number of steps to reduce it to zero. If the current number is even, you have to divide it by 2, otherwise, you have to subtract 1 from it.\n",
    "\n",
    "Input: num = 14\n",
    "Output: 6\n",
    "Explanation: \n",
    "Step 1) 14 is even; divide by 2 and obtain 7. \n",
    "Step 2) 7 is odd; subtract 1 and obtain 6.\n",
    "Step 3) 6 is even; divide by 2 and obtain 3. \n",
    "Step 4) 3 is odd; subtract 1 and obtain 2. \n",
    "Step 5) 2 is even; divide by 2 and obtain 1. \n",
    "Step 6) 1 is odd; subtract 1 and obtain 0.\n"
   ]
  },
  {
   "cell_type": "code",
   "execution_count": null,
   "metadata": {},
   "outputs": [],
   "source": [
    "    def numberOfSteps (self, num):\n",
    "        \"\"\"\n",
    "        :type num: int\n",
    "        :rtype: int\n",
    "        \"\"\"\n",
    "        cnt = 0\n",
    "        while num != 0:\n",
    "            if num % 2 == 0:\n",
    "                num = num / 2\n",
    "                print(num)\n",
    "                cnt += 1\n",
    "            else:\n",
    "                num = num - 1\n",
    "                print(num)\n",
    "                cnt += 1\n",
    "        return cnt"
   ]
  },
  {
   "cell_type": "markdown",
   "metadata": {},
   "source": [
    "Given a string s and an integer array indices of the same length.\n",
    "\n",
    "The string s will be shuffled such that the character at the ith position moves to indices[i] in the shuffled string.\n",
    "\n",
    "Return the shuffled string.\n",
    "\n",
    "Input: s = \"codeleet\", indices = [4,5,6,7,0,2,1,3]\n",
    "Output: \"leetcode\"\n",
    "Explanation: As shown, \"codeleet\" becomes \"leetcode\" after shuffling."
   ]
  },
  {
   "cell_type": "code",
   "execution_count": null,
   "metadata": {},
   "outputs": [],
   "source": [
    "   def restoreString(self, s, indices):\n",
    "        \"\"\"\n",
    "        :type s: str\n",
    "        :type indices: List[int]\n",
    "        :rtype: str\n",
    "        \"\"\"\n",
    "        s=list(s)\n",
    "        k=[0]* len(indices)\n",
    "        #print (k)\n",
    "        for i in range(len(s)):\n",
    "            a = indices[i]\n",
    "            b = s[i]\n",
    "            #print('a',a)\n",
    "            #print('b',b)\n",
    "            k[indices[i]] = s[i]\n",
    "        return (''.join(k)) "
   ]
  },
  {
   "cell_type": "markdown",
   "metadata": {},
   "source": [
    "Given the array nums, for each nums[i] find out how many numbers in the array are smaller than it. That is, for each nums[i] you have to count the number of valid j's such that j != i and nums[j] < nums[i].\n",
    "\n",
    "Return the answer in an array.\n",
    "\n",
    "Input: nums = [8,1,2,2,3]\n",
    "Output: [4,0,1,1,3]\n",
    "Explanation: \n",
    "For nums[0]=8 there exist four smaller numbers than it (1, 2, 2 and 3). \n",
    "For nums[1]=1 does not exist any smaller number than it.\n",
    "For nums[2]=2 there exist one smaller number than it (1). \n",
    "For nums[3]=2 there exist one smaller number than it (1). \n",
    "For nums[4]=3 there exist three smaller numbers than it (1, 2 and 2)."
   ]
  },
  {
   "cell_type": "code",
   "execution_count": null,
   "metadata": {},
   "outputs": [],
   "source": [
    "    def smallerNumbersThanCurrent(self, nums):\n",
    "        \"\"\"\n",
    "        :type nums: List[int]\n",
    "        :rtype: List[int]\n",
    "        \"\"\"\n",
    "        m = []\n",
    "        for i in range(len(nums)):\n",
    "            cnt = 0\n",
    "            for k in range(len(nums)):\n",
    "                if nums[i] > nums[k]:\n",
    "                    cnt += 1\n",
    "            print(cnt)\n",
    "            m.append(cnt)\n",
    "        return m"
   ]
  },
  {
   "cell_type": "code",
   "execution_count": 14,
   "metadata": {},
   "outputs": [
    {
     "name": "stdout",
     "output_type": "stream",
     "text": [
      "0\n",
      "1\n",
      "2\n",
      "3\n",
      "4\n"
     ]
    }
   ],
   "source": []
  },
  {
   "cell_type": "code",
   "execution_count": null,
   "metadata": {},
   "outputs": [],
   "source": []
  }
 ],
 "metadata": {
  "kernelspec": {
   "display_name": "Python 3",
   "language": "python",
   "name": "python3"
  },
  "language_info": {
   "codemirror_mode": {
    "name": "ipython",
    "version": 3
   },
   "file_extension": ".py",
   "mimetype": "text/x-python",
   "name": "python",
   "nbconvert_exporter": "python",
   "pygments_lexer": "ipython3",
   "version": "3.8.8"
  }
 },
 "nbformat": 4,
 "nbformat_minor": 2
}
